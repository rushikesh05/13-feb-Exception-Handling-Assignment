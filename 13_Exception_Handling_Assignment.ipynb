{
  "nbformat": 4,
  "nbformat_minor": 0,
  "metadata": {
    "colab": {
      "provenance": []
    },
    "kernelspec": {
      "name": "python3",
      "display_name": "Python 3"
    },
    "language_info": {
      "name": "python"
    }
  },
  "cells": [
    {
      "cell_type": "markdown",
      "source": [
        "###Q1. Explain why we have to use the Exception class while creating a Custom Exception.\n",
        "Note: Here Exception class refers to the base class for all the exceptions.\n",
        "\n",
        "*  In Python, when we create a custom exception, we usually inherit from the built-in Exception class, which is the base class for all exceptions. By inheriting from Exception, our custom exception inherits all the behaviors and attributes of the base Exception class.\n",
        "\n",
        "####Here are some reasons why we should use the Exception class when creating a custom exception:\n",
        "\n",
        "* Provides a common interface: By inheriting from Exception, our custom exception follows the same interface as other built-in exceptions, such as TypeError, ValueError, and so on. This makes it easier to understand how to handle the exception and makes the code more maintainable.\n",
        "\n",
        "* Enables exception handling: By inheriting from Exception, our custom exception can be handled by the same try-except blocks that handle other exceptions. This makes it easier to write code that gracefully handles exceptions and provides better error reporting to users.\n",
        "\n",
        "* Offers flexibility: By inheriting from Exception, we can customize our custom exception to suit our specific use case. We can define additional attributes and behaviors for our custom exception that are relevant to our application.\n",
        "\n",
        "#####In summary, we use the Exception class while creating a custom exception in Python because it provides a common interface, enables exception handling, and offers flexibility for customization.\n",
        "\n",
        "\n",
        "\n",
        "\n"
      ],
      "metadata": {
        "id": "wAnvXwqrzvXE"
      }
    },
    {
      "cell_type": "code",
      "execution_count": null,
      "metadata": {
        "id": "C2gBTaHAzU6q"
      },
      "outputs": [],
      "source": []
    },
    {
      "cell_type": "markdown",
      "source": [
        "###Q2. Write a python program to print Python Exception Hierarchy."
      ],
      "metadata": {
        "id": "jeGH0zWB1fq0"
      }
    },
    {
      "cell_type": "code",
      "source": [
        "class_hierarchy = {}\n",
        "\n",
        "base_exception = BaseException\n",
        "\n",
        "# Loop through all the exception classes and build the hierarchy dictionary\n",
        "while base_exception is not object:\n",
        "    class_hierarchy[base_exception.__name__] = [c.__name__ for c in base_exception.__subclasses__()]\n",
        "    base_exception = base_exception.__base__\n",
        "\n",
        "# Print the hierarchy\n",
        "for exception_class, subclasses in class_hierarchy.items():\n",
        "    print(exception_class)\n",
        "    if subclasses:\n",
        "        print(\"  -> \" + \"\\n  -> \".join(subclasses))\n"
      ],
      "metadata": {
        "colab": {
          "base_uri": "https://localhost:8080/"
        },
        "id": "MDkasujf1g2O",
        "outputId": "a872d088-8480-4fad-d903-9800134f6866"
      },
      "execution_count": 1,
      "outputs": [
        {
          "output_type": "stream",
          "name": "stdout",
          "text": [
            "BaseException\n",
            "  -> Exception\n",
            "  -> GeneratorExit\n",
            "  -> SystemExit\n",
            "  -> KeyboardInterrupt\n",
            "  -> CancelledError\n"
          ]
        }
      ]
    },
    {
      "cell_type": "markdown",
      "source": [
        "###Q3. What errors are defined in the ArithmeticError class? Explain any two with an example."
      ],
      "metadata": {
        "id": "aXA5jObr2il-"
      }
    },
    {
      "cell_type": "markdown",
      "source": [
        "* The ArithmeticError is a built-in Python class that serves as the base class for exceptions that occur during arithmetic operations. It is a subclass of the Exception class and is raised when an arithmetic operation fails.\n",
        "\n",
        "###The following are some of the errors defined in the ArithmeticError class:\n",
        "\n",
        "* ZeroDivisionError: This error occurs when the divisor in a division operation is zero. For example, dividing a number by zero is not allowed and will result in this error."
      ],
      "metadata": {
        "id": "zrP_PCTg3KIT"
      }
    },
    {
      "cell_type": "code",
      "source": [
        "a = 10\n",
        "b = 0\n",
        "try:\n",
        "    c = a/b\n",
        "except ZeroDivisionError as e:\n",
        "    print(\"Error: \", e)\n"
      ],
      "metadata": {
        "colab": {
          "base_uri": "https://localhost:8080/"
        },
        "id": "vyrQyxO02an9",
        "outputId": "0b885446-050a-4d9c-eb44-a5ba07659340"
      },
      "execution_count": 2,
      "outputs": [
        {
          "output_type": "stream",
          "name": "stdout",
          "text": [
            "Error:  division by zero\n"
          ]
        }
      ]
    },
    {
      "cell_type": "markdown",
      "source": [
        "* ValueError: This error occurs when a function or operation receives an argument that is not of the expected type or value. For example, passing a string that cannot be converted to a number as an argument to an arithmetic operation will raise a ValueError.\n",
        "####Example:"
      ],
      "metadata": {
        "id": "B96IaGj13bYe"
      }
    },
    {
      "cell_type": "code",
      "source": [
        "s = \"Rushikesh\"\n",
        "try:\n",
        "    n = int(s)\n",
        "except ValueError as e:\n",
        "    print(\"Error:\", e)\n"
      ],
      "metadata": {
        "colab": {
          "base_uri": "https://localhost:8080/"
        },
        "id": "u86tgLGr3YcW",
        "outputId": "e4ae8bc4-af0b-4f31-bf27-81bd82b9a700"
      },
      "execution_count": 9,
      "outputs": [
        {
          "output_type": "stream",
          "name": "stdout",
          "text": [
            "Error: invalid literal for int() with base 10: 'Rushikesh'\n"
          ]
        }
      ]
    },
    {
      "cell_type": "markdown",
      "source": [
        "###Q4. Why LookupError class is used? Explain with an example KeyError and IndexError.\n",
        "\n",
        "\n",
        "* The LookupError is a base class for exceptions that occur when a lookup or indexing operation fails. It is a subclass of the Exception class, and provides a way to handle errors that occur when trying to access elements in a sequence, dictionary, or other container data types.\n",
        "\n",
        "###Here are two examples of subclasses of the LookupError class:\n",
        "\n",
        "* KeyError: This is raised when trying to access a key that does not exist in a dictionary."
      ],
      "metadata": {
        "id": "1VRL6j3i55FT"
      }
    },
    {
      "cell_type": "code",
      "source": [
        "my_dict = {'a': 1, 'b': 2, 'c': 3}\n",
        "try:\n",
        "    value = my_dict['d']\n",
        "except KeyError as e:\n",
        "    print(\"Error:\", e)\n"
      ],
      "metadata": {
        "colab": {
          "base_uri": "https://localhost:8080/"
        },
        "id": "afa5uFQ13f6i",
        "outputId": "16117069-4226-4fa8-fc02-e63335afb63b"
      },
      "execution_count": 10,
      "outputs": [
        {
          "output_type": "stream",
          "name": "stdout",
          "text": [
            "Error: 'd'\n"
          ]
        }
      ]
    },
    {
      "cell_type": "markdown",
      "source": [
        "* IndexError: This is raised when trying to access an index that is out of range in a sequence."
      ],
      "metadata": {
        "id": "8U1Dqbmz9Ziy"
      }
    },
    {
      "cell_type": "code",
      "source": [
        "my_list = [1, 2, 3]\n",
        "try:\n",
        "    value = my_list[3]\n",
        "except IndexError as e:\n",
        "    print(\"Error:\", e)\n"
      ],
      "metadata": {
        "colab": {
          "base_uri": "https://localhost:8080/"
        },
        "id": "8gE-gEnl9Vjf",
        "outputId": "0159f385-c3ca-4a97-c9cf-b6fab8cde68f"
      },
      "execution_count": 11,
      "outputs": [
        {
          "output_type": "stream",
          "name": "stdout",
          "text": [
            "Error: list index out of range\n"
          ]
        }
      ]
    },
    {
      "cell_type": "markdown",
      "source": [
        "###Q5. Explain ImportError. What is ModuleNotFoundError?\n",
        "\n",
        "* ImportError is an exception that is raised when a module cannot be imported in Python. This can occur for several reasons, such as the module not being installed, not being in the search path, or containing syntax errors.\n",
        "\n",
        "####Here is an example of an ImportError being raised:"
      ],
      "metadata": {
        "id": "-jV285_T9k4v"
      }
    },
    {
      "cell_type": "code",
      "source": [
        "try:\n",
        "    import rushi\n",
        "except ImportError as e:\n",
        "    print(\"Error:\", e)\n"
      ],
      "metadata": {
        "colab": {
          "base_uri": "https://localhost:8080/"
        },
        "id": "XpaPUjLl9dsH",
        "outputId": "0841d90c-1e52-4aae-c8ad-79b129f31b88"
      },
      "execution_count": 12,
      "outputs": [
        {
          "output_type": "stream",
          "name": "stdout",
          "text": [
            "Error: No module named 'rushi'\n"
          ]
        }
      ]
    },
    {
      "cell_type": "markdown",
      "source": [
        "* ModuleNotFoundError is a subclass of ImportError that was introduced in Python 3.6. It is raised when a module cannot be found during an import statement. It is more specific than ImportError, and provides a clearer message to the user about what went wrong.\n",
        "\n",
        "####Here is an example of a ModuleNotFoundError being raised:"
      ],
      "metadata": {
        "id": "JjDpHu9d-r8n"
      }
    },
    {
      "cell_type": "code",
      "source": [
        "try:\n",
        "    import rushi\n",
        "except ModuleNotFoundError as e:\n",
        "    print(\"Error:\", e)\n"
      ],
      "metadata": {
        "colab": {
          "base_uri": "https://localhost:8080/"
        },
        "id": "HmCvFFEP-m_0",
        "outputId": "0f2d05ce-f9df-4ae9-ade9-8fa5c13432d4"
      },
      "execution_count": 13,
      "outputs": [
        {
          "output_type": "stream",
          "name": "stdout",
          "text": [
            "Error: No module named 'rushi'\n"
          ]
        }
      ]
    },
    {
      "cell_type": "markdown",
      "source": [
        "* In summary, ImportError is a general exception that is raised when a module cannot be imported for any reason, while ModuleNotFoundError is a more specific exception that is raised specifically when a module cannot be found during an import statement."
      ],
      "metadata": {
        "id": "ajjo9zgq-35R"
      }
    },
    {
      "cell_type": "code",
      "source": [],
      "metadata": {
        "id": "NpnkqWDG-0D8"
      },
      "execution_count": null,
      "outputs": []
    },
    {
      "cell_type": "markdown",
      "source": [
        "###Q6. List down some best practices for exception handling in python."
      ],
      "metadata": {
        "id": "oRVgNUNI-9q1"
      }
    },
    {
      "cell_type": "markdown",
      "source": [
        "####Here are some best practices for exception handling in Python:\n",
        "\n",
        "* Handle specific exceptions: Catch only the exceptions that you expect to be raised, and avoid using broad exception handlers like except Exception:. This will help you to avoid masking errors and make it easier to debug your code.\n",
        "\n",
        "* Use try-except blocks judiciously: Use try-except blocks only where exceptions can be handled meaningfully. Don't use them to suppress errors or to hide bugs.\n",
        "\n",
        "* Use finally blocks for cleanup: Use finally blocks to perform cleanup tasks, such as closing files or releasing resources, regardless of whether an exception was raised or not.\n",
        "\n",
        "\n",
        "* Provide informative error messages: Provide informative error messages that help the user to understand the cause of the error and how to fix it.\n",
        "\n",
        "* Log exceptions: Log exceptions to a file or a database, so that you can monitor and debug your code in production.\n",
        "\n",
        "* Reraise exceptions where appropriate: If you catch an exception and cannot handle it meaningfully, reraise the exception using the raise statement to pass the error message to the caller.\n",
        "\n",
        "* Use context managers: Use context managers like with statements to automatically clean up resources, such as files or database connections, after they are no longer needed.\n",
        "\n",
        "* Avoid bare except clauses: Avoid using bare except clauses that catch all exceptions, as this can mask errors and make it difficult to debug your code.\n",
        "\n",
        "* Use built-in exceptions: Use built-in exceptions whenever possible, as they are optimized for performance and are easier to maintain.\n",
        "\n",
        "* Test your code: Test your code thoroughly, including edge cases and error conditions, to ensure that it works as expected and handles exceptions correctly."
      ],
      "metadata": {
        "id": "Qlr1326V_PMj"
      }
    },
    {
      "cell_type": "code",
      "source": [],
      "metadata": {
        "id": "32y_ujvL_I35"
      },
      "execution_count": null,
      "outputs": []
    }
  ]
}